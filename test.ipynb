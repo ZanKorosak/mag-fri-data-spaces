{
 "cells": [
  {
   "cell_type": "code",
   "execution_count": null,
   "metadata": {},
   "outputs": [],
   "source": [
    "# If required, run this command to install dependencies\n",
    "!pip install -r requirements.txt"
   ]
  },
  {
   "cell_type": "markdown",
   "metadata": {},
   "source": [
    "To test the endpoints and upload files, first create a `.env` file in root of the project. Insert your username and password that you use to login to LDS Connector:\n",
    "\n",
    "```\n",
    "KEYCLOAK_USERNAME=\"<NAME>\"\n",
    "KEYCLOAK_PASSWORD=\"<PASSWORD>\"\n",
    "```"
   ]
  },
  {
   "cell_type": "code",
   "execution_count": null,
   "metadata": {},
   "outputs": [],
   "source": [
    "import requests\n",
    "import time\n",
    "import os\n",
    "from dotenv import load_dotenv\n",
    "\n",
    "load_dotenv()\n",
    "\n",
    "env_data = {\n",
    "    \"username\": os.getenv(\"KEYCLOAK_USERNAME\"),\n",
    "    \"password\": os.getenv(\"KEYCLOAK_PASSWORD\"),\n",
    "}\n",
    "\n",
    "assert env_data.get(\"username\") is not None, \"Username not found in environment variables\"\n",
    "assert env_data.get(\"password\") is not None, \"Password not found in environment variables\"\n",
    "\n",
    "BASE_URL = \"lds.cjvt.si:9009/api\"\n"
   ]
  },
  {
   "cell_type": "markdown",
   "metadata": {},
   "source": [
    "# Files"
   ]
  },
  {
   "cell_type": "markdown",
   "metadata": {},
   "source": [
    "### Upload file"
   ]
  },
  {
   "cell_type": "code",
   "execution_count": null,
   "metadata": {},
   "outputs": [],
   "source": [
    "\n",
    "FILE_UPLOAD_ENDPOINT= \"/files/upload\"\n",
    "\n",
    "# Read file\n",
    "file_path = \"data/\"\n",
    "data_file = \"Breast_cancer_dataset.csv\"\n",
    "\n",
    "data = {\n",
    "    \"username\": env_data[\"username\"],\n",
    "    \"password\": env_data[\"password\"],\n",
    "}\n",
    "\n",
    "def upload_file(file_path, data_file):\n",
    "\n",
    "\n",
    "    # Start time\n",
    "    start_time = time.time()\n",
    "    \n",
    "    with open(file_path + data_file, \"rb\") as f:\n",
    "        files = {\n",
    "            \"file\": (data_file, f, \"application/vnd.ms-excel\")\n",
    "        }\n",
    "\n",
    "\n",
    "        try:\n",
    "            response = requests.post(\n",
    "                f\"http://{BASE_URL}{FILE_UPLOAD_ENDPOINT}\",\n",
    "                data=data, \n",
    "                files=files\n",
    "            )\n",
    "\n",
    "            # Get file size\n",
    "            file_size = os.path.getsize(file_path + data_file)\n",
    "\n",
    "            response.raise_for_status()  # Raise an error for bad responses (4xx and 5xx)\n",
    "            #print(f\"File ({file_size} bytes) '{data_file}' uploaded successfully. Server response: {response.json()}\")\n",
    "\n",
    "\n",
    "        except requests.exceptions.RequestException as e:\n",
    "            print(f\"Request failed: {e}\")\n",
    "            exit(1)\n",
    "        \n",
    "    end_time = time.time()\n",
    "\n",
    "    print(f\"Time taken to upload the file {data_file} ({round(file_size/1000, 2)} KB): {round(end_time - start_time, 2)} seconds\")\n",
    "\n",
    "upload_file(file_path, data_file)"
   ]
  },
  {
   "cell_type": "code",
   "execution_count": null,
   "metadata": {},
   "outputs": [],
   "source": [
    "full_time = time.time()\n",
    "file_path = \"data/test/\"\n",
    "\n",
    "\n",
    "# Read files in data directory and upload them\n",
    "for data_file in os.listdir(file_path):\n",
    "    if data_file.endswith(\".csv\"):\n",
    "        upload_file(file_path, data_file)\n",
    "\n",
    "print(f\"Total time taken to upload all files: {round(time.time() - full_time, 2)} seconds\")"
   ]
  },
  {
   "cell_type": "code",
   "execution_count": null,
   "metadata": {},
   "outputs": [],
   "source": [
    "FILE_LIST_ENDPOINT= \"/files/list\"\n",
    "\n",
    "response = requests.get(\n",
    "    f\"http://{BASE_URL}{FILE_LIST_ENDPOINT}\",\n",
    ")\n",
    "response.json()"
   ]
  }
 ],
 "metadata": {
  "kernelspec": {
   "display_name": ".venv",
   "language": "python",
   "name": "python3"
  },
  "language_info": {
   "codemirror_mode": {
    "name": "ipython",
    "version": 3
   },
   "file_extension": ".py",
   "mimetype": "text/x-python",
   "name": "python",
   "nbconvert_exporter": "python",
   "pygments_lexer": "ipython3",
   "version": "3.11.9"
  }
 },
 "nbformat": 4,
 "nbformat_minor": 2
}
